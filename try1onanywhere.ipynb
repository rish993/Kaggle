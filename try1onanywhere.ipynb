{
 "cells": [
  {
   "cell_type": "code",
   "execution_count": 1,
   "id": "6b181b80",
   "metadata": {
    "_cell_guid": "b1076dfc-b9ad-4769-8c92-a6c4dae69d19",
    "_uuid": "8f2839f25d086af736a60e9eeb907d3b93b6e0e5",
    "execution": {
     "iopub.execute_input": "2024-07-04T15:35:09.940568Z",
     "iopub.status.busy": "2024-07-04T15:35:09.940170Z",
     "iopub.status.idle": "2024-07-04T15:35:11.015975Z",
     "shell.execute_reply": "2024-07-04T15:35:11.014567Z"
    },
    "papermill": {
     "duration": 1.08798,
     "end_time": "2024-07-04T15:35:11.018729",
     "exception": false,
     "start_time": "2024-07-04T15:35:09.930749",
     "status": "completed"
    },
    "tags": []
   },
   "outputs": [
    {
     "name": "stdout",
     "output_type": "stream",
     "text": [
      "/kaggle/input/titanic/train.csv\n",
      "/kaggle/input/titanic/test.csv\n",
      "/kaggle/input/titanic/gender_submission.csv\n"
     ]
    }
   ],
   "source": [
    "# This Python 3 environment comes with many helpful analytics libraries installed\n",
    "# It is defined by the kaggle/python Docker image: https://github.com/kaggle/docker-python\n",
    "# For example, here's several helpful packages to load\n",
    "\n",
    "import numpy as np # linear algebra\n",
    "import pandas as pd # data processing, CSV file I/O (e.g. pd.read_csv)\n",
    "import matplotlib\n",
    "# Input data files are available in the read-only \"../input/\" directory\n",
    "# For example, running this (by clicking run or pressing Shift+Enter) will list all files under the input directory\n",
    "\n",
    "import os\n",
    "for dirname, _, filenames in os.walk('/kaggle/input'):\n",
    "    for filename in filenames:\n",
    "        print(os.path.join(dirname, filename))\n",
    "\n",
    "# You can write up to 20GB to the current directory (/kaggle/working/) that gets preserved as output when you create a version using \"Save & Run All\" \n",
    "# You can also write temporary files to /kaggle/temp/, but they won't be saved outside of the current session"
   ]
  },
  {
   "cell_type": "code",
   "execution_count": 2,
   "id": "c7c2d5b0",
   "metadata": {
    "execution": {
     "iopub.execute_input": "2024-07-04T15:35:11.036473Z",
     "iopub.status.busy": "2024-07-04T15:35:11.035115Z",
     "iopub.status.idle": "2024-07-04T15:35:11.073763Z",
     "shell.execute_reply": "2024-07-04T15:35:11.072597Z"
    },
    "papermill": {
     "duration": 0.050965,
     "end_time": "2024-07-04T15:35:11.077437",
     "exception": false,
     "start_time": "2024-07-04T15:35:11.026472",
     "status": "completed"
    },
    "tags": []
   },
   "outputs": [
    {
     "data": {
      "text/plain": [
       "PassengerId    False\n",
       "Survived       False\n",
       "Pclass         False\n",
       "Name           False\n",
       "Sex            False\n",
       "Age             True\n",
       "SibSp          False\n",
       "Parch          False\n",
       "Ticket         False\n",
       "Fare           False\n",
       "Cabin           True\n",
       "Embarked        True\n",
       "dtype: bool"
      ]
     },
     "execution_count": 2,
     "metadata": {},
     "output_type": "execute_result"
    }
   ],
   "source": [
    "x_train = pd.read_csv(\"/kaggle/input/titanic/train.csv\")\n",
    "x_train.isnull().any()\n",
    "\n"
   ]
  },
  {
   "cell_type": "code",
   "execution_count": 3,
   "id": "8e5084cb",
   "metadata": {
    "execution": {
     "iopub.execute_input": "2024-07-04T15:35:11.095717Z",
     "iopub.status.busy": "2024-07-04T15:35:11.095318Z",
     "iopub.status.idle": "2024-07-04T15:35:11.113452Z",
     "shell.execute_reply": "2024-07-04T15:35:11.112172Z"
    },
    "papermill": {
     "duration": 0.029823,
     "end_time": "2024-07-04T15:35:11.115738",
     "exception": false,
     "start_time": "2024-07-04T15:35:11.085915",
     "status": "completed"
    },
    "tags": []
   },
   "outputs": [
    {
     "data": {
      "text/plain": [
       "'for i in range (m):\\n    tag=0\\n    for key, value in x_train[i].items():\\n        if np.isnan(value):\\n            tag = 1\\n            break\\n    if np.isnan(y_train[i]):\\n        tag = 1\\n    if tag:\\n        x_train.drop(i,inplace=\"True\")\\n        y_train.drop(i,inplace=\\'True\\')'"
      ]
     },
     "execution_count": 3,
     "metadata": {},
     "output_type": "execute_result"
    }
   ],
   "source": [
    "\n",
    "\n",
    "x_train=x_train[['Survived','Pclass','Sex', 'Age', 'SibSp', 'Parch','Fare','Cabin']]\n",
    "'''for i in range (m):\n",
    "    tag=0\n",
    "    for key, value in x_train[i].items():\n",
    "        if np.isnan(value):\n",
    "            tag = 1\n",
    "            break\n",
    "    if np.isnan(y_train[i]):\n",
    "        tag = 1\n",
    "    if tag:\n",
    "        x_train.drop(i,inplace=\"True\")\n",
    "        y_train.drop(i,inplace='True')'''"
   ]
  },
  {
   "cell_type": "code",
   "execution_count": 4,
   "id": "35e11cff",
   "metadata": {
    "execution": {
     "iopub.execute_input": "2024-07-04T15:35:11.133961Z",
     "iopub.status.busy": "2024-07-04T15:35:11.133501Z",
     "iopub.status.idle": "2024-07-04T15:35:11.155970Z",
     "shell.execute_reply": "2024-07-04T15:35:11.154749Z"
    },
    "papermill": {
     "duration": 0.034656,
     "end_time": "2024-07-04T15:35:11.158670",
     "exception": false,
     "start_time": "2024-07-04T15:35:11.124014",
     "status": "completed"
    },
    "tags": []
   },
   "outputs": [
    {
     "data": {
      "text/html": [
       "<div>\n",
       "<style scoped>\n",
       "    .dataframe tbody tr th:only-of-type {\n",
       "        vertical-align: middle;\n",
       "    }\n",
       "\n",
       "    .dataframe tbody tr th {\n",
       "        vertical-align: top;\n",
       "    }\n",
       "\n",
       "    .dataframe thead th {\n",
       "        text-align: right;\n",
       "    }\n",
       "</style>\n",
       "<table border=\"1\" class=\"dataframe\">\n",
       "  <thead>\n",
       "    <tr style=\"text-align: right;\">\n",
       "      <th></th>\n",
       "      <th>Survived</th>\n",
       "      <th>Pclass</th>\n",
       "      <th>Sex</th>\n",
       "      <th>Age</th>\n",
       "      <th>SibSp</th>\n",
       "      <th>Parch</th>\n",
       "      <th>Fare</th>\n",
       "      <th>Cabin</th>\n",
       "    </tr>\n",
       "  </thead>\n",
       "  <tbody>\n",
       "    <tr>\n",
       "      <th>0</th>\n",
       "      <td>0</td>\n",
       "      <td>3</td>\n",
       "      <td>male</td>\n",
       "      <td>22.0</td>\n",
       "      <td>1</td>\n",
       "      <td>0</td>\n",
       "      <td>7.2500</td>\n",
       "      <td>NaN</td>\n",
       "    </tr>\n",
       "    <tr>\n",
       "      <th>1</th>\n",
       "      <td>1</td>\n",
       "      <td>1</td>\n",
       "      <td>female</td>\n",
       "      <td>38.0</td>\n",
       "      <td>1</td>\n",
       "      <td>0</td>\n",
       "      <td>71.2833</td>\n",
       "      <td>C85</td>\n",
       "    </tr>\n",
       "    <tr>\n",
       "      <th>2</th>\n",
       "      <td>1</td>\n",
       "      <td>3</td>\n",
       "      <td>female</td>\n",
       "      <td>26.0</td>\n",
       "      <td>0</td>\n",
       "      <td>0</td>\n",
       "      <td>7.9250</td>\n",
       "      <td>NaN</td>\n",
       "    </tr>\n",
       "    <tr>\n",
       "      <th>3</th>\n",
       "      <td>1</td>\n",
       "      <td>1</td>\n",
       "      <td>female</td>\n",
       "      <td>35.0</td>\n",
       "      <td>1</td>\n",
       "      <td>0</td>\n",
       "      <td>53.1000</td>\n",
       "      <td>C123</td>\n",
       "    </tr>\n",
       "    <tr>\n",
       "      <th>4</th>\n",
       "      <td>0</td>\n",
       "      <td>3</td>\n",
       "      <td>male</td>\n",
       "      <td>35.0</td>\n",
       "      <td>0</td>\n",
       "      <td>0</td>\n",
       "      <td>8.0500</td>\n",
       "      <td>NaN</td>\n",
       "    </tr>\n",
       "  </tbody>\n",
       "</table>\n",
       "</div>"
      ],
      "text/plain": [
       "   Survived  Pclass     Sex   Age  SibSp  Parch     Fare Cabin\n",
       "0         0       3    male  22.0      1      0   7.2500   NaN\n",
       "1         1       1  female  38.0      1      0  71.2833   C85\n",
       "2         1       3  female  26.0      0      0   7.9250   NaN\n",
       "3         1       1  female  35.0      1      0  53.1000  C123\n",
       "4         0       3    male  35.0      0      0   8.0500   NaN"
      ]
     },
     "execution_count": 4,
     "metadata": {},
     "output_type": "execute_result"
    }
   ],
   "source": [
    "x_train.head()"
   ]
  },
  {
   "cell_type": "code",
   "execution_count": 5,
   "id": "b986094e",
   "metadata": {
    "execution": {
     "iopub.execute_input": "2024-07-04T15:35:11.175591Z",
     "iopub.status.busy": "2024-07-04T15:35:11.174764Z",
     "iopub.status.idle": "2024-07-04T15:35:11.191702Z",
     "shell.execute_reply": "2024-07-04T15:35:11.190295Z"
    },
    "papermill": {
     "duration": 0.028249,
     "end_time": "2024-07-04T15:35:11.194369",
     "exception": false,
     "start_time": "2024-07-04T15:35:11.166120",
     "status": "completed"
    },
    "tags": []
   },
   "outputs": [
    {
     "data": {
      "text/plain": [
       "(714, 8)"
      ]
     },
     "execution_count": 5,
     "metadata": {},
     "output_type": "execute_result"
    }
   ],
   "source": [
    "\n",
    "\n",
    "\n",
    "def hnnd(x):\n",
    "    cols=x.columns.values\n",
    "    for column in cols:\n",
    "        text_digit_vals={}\n",
    "        def convert_to_int(val):\n",
    "            return text_digit_vals[val]\n",
    "        if x[column].dtype!=np.int64 and x[column].dtype!=np.float64:\n",
    "            unique_elements= set(x[column].values.tolist())\n",
    "            c=0\n",
    "            for unique in unique_elements:\n",
    "                if unique not in text_digit_vals:\n",
    "                    text_digit_vals[unique]=c\n",
    "                    c+=1\n",
    "            x[column]=list(map(convert_to_int,x[column]))\n",
    "    return x\n",
    "hnnd(x_train)\n",
    "\n",
    "x_train.isnull().any()\n",
    "x_train=x_train.dropna()\n",
    "x_train.shape"
   ]
  },
  {
   "cell_type": "code",
   "execution_count": 6,
   "id": "65d271b6",
   "metadata": {
    "execution": {
     "iopub.execute_input": "2024-07-04T15:35:11.213543Z",
     "iopub.status.busy": "2024-07-04T15:35:11.213069Z",
     "iopub.status.idle": "2024-07-04T15:35:11.229580Z",
     "shell.execute_reply": "2024-07-04T15:35:11.228206Z"
    },
    "papermill": {
     "duration": 0.029926,
     "end_time": "2024-07-04T15:35:11.232314",
     "exception": false,
     "start_time": "2024-07-04T15:35:11.202388",
     "status": "completed"
    },
    "tags": []
   },
   "outputs": [
    {
     "data": {
      "text/html": [
       "<div>\n",
       "<style scoped>\n",
       "    .dataframe tbody tr th:only-of-type {\n",
       "        vertical-align: middle;\n",
       "    }\n",
       "\n",
       "    .dataframe tbody tr th {\n",
       "        vertical-align: top;\n",
       "    }\n",
       "\n",
       "    .dataframe thead th {\n",
       "        text-align: right;\n",
       "    }\n",
       "</style>\n",
       "<table border=\"1\" class=\"dataframe\">\n",
       "  <thead>\n",
       "    <tr style=\"text-align: right;\">\n",
       "      <th></th>\n",
       "      <th>Survived</th>\n",
       "      <th>Pclass</th>\n",
       "      <th>Sex</th>\n",
       "      <th>Age</th>\n",
       "      <th>SibSp</th>\n",
       "      <th>Parch</th>\n",
       "      <th>Fare</th>\n",
       "      <th>Cabin</th>\n",
       "    </tr>\n",
       "  </thead>\n",
       "  <tbody>\n",
       "    <tr>\n",
       "      <th>0</th>\n",
       "      <td>0</td>\n",
       "      <td>3</td>\n",
       "      <td>0</td>\n",
       "      <td>22.0</td>\n",
       "      <td>1</td>\n",
       "      <td>0</td>\n",
       "      <td>7.2500</td>\n",
       "      <td>44</td>\n",
       "    </tr>\n",
       "    <tr>\n",
       "      <th>1</th>\n",
       "      <td>1</td>\n",
       "      <td>1</td>\n",
       "      <td>1</td>\n",
       "      <td>38.0</td>\n",
       "      <td>1</td>\n",
       "      <td>0</td>\n",
       "      <td>71.2833</td>\n",
       "      <td>131</td>\n",
       "    </tr>\n",
       "    <tr>\n",
       "      <th>2</th>\n",
       "      <td>1</td>\n",
       "      <td>3</td>\n",
       "      <td>1</td>\n",
       "      <td>26.0</td>\n",
       "      <td>0</td>\n",
       "      <td>0</td>\n",
       "      <td>7.9250</td>\n",
       "      <td>44</td>\n",
       "    </tr>\n",
       "    <tr>\n",
       "      <th>3</th>\n",
       "      <td>1</td>\n",
       "      <td>1</td>\n",
       "      <td>1</td>\n",
       "      <td>35.0</td>\n",
       "      <td>1</td>\n",
       "      <td>0</td>\n",
       "      <td>53.1000</td>\n",
       "      <td>5</td>\n",
       "    </tr>\n",
       "    <tr>\n",
       "      <th>4</th>\n",
       "      <td>0</td>\n",
       "      <td>3</td>\n",
       "      <td>0</td>\n",
       "      <td>35.0</td>\n",
       "      <td>0</td>\n",
       "      <td>0</td>\n",
       "      <td>8.0500</td>\n",
       "      <td>44</td>\n",
       "    </tr>\n",
       "  </tbody>\n",
       "</table>\n",
       "</div>"
      ],
      "text/plain": [
       "   Survived  Pclass  Sex   Age  SibSp  Parch     Fare  Cabin\n",
       "0         0       3    0  22.0      1      0   7.2500     44\n",
       "1         1       1    1  38.0      1      0  71.2833    131\n",
       "2         1       3    1  26.0      0      0   7.9250     44\n",
       "3         1       1    1  35.0      1      0  53.1000      5\n",
       "4         0       3    0  35.0      0      0   8.0500     44"
      ]
     },
     "execution_count": 6,
     "metadata": {},
     "output_type": "execute_result"
    }
   ],
   "source": [
    "x_train.head()"
   ]
  },
  {
   "cell_type": "code",
   "execution_count": 7,
   "id": "a6451f67",
   "metadata": {
    "execution": {
     "iopub.execute_input": "2024-07-04T15:35:11.250540Z",
     "iopub.status.busy": "2024-07-04T15:35:11.250154Z",
     "iopub.status.idle": "2024-07-04T15:35:11.257366Z",
     "shell.execute_reply": "2024-07-04T15:35:11.256201Z"
    },
    "papermill": {
     "duration": 0.019968,
     "end_time": "2024-07-04T15:35:11.259951",
     "exception": false,
     "start_time": "2024-07-04T15:35:11.239983",
     "status": "completed"
    },
    "tags": []
   },
   "outputs": [],
   "source": [
    "y_train=x_train['Survived']\n",
    "x_train=x_train[['Pclass','Sex', 'Age', 'SibSp', 'Parch','Fare','Cabin']]\n",
    "x1=x_train.to_numpy()\n",
    "y1=y_train.to_numpy()\n"
   ]
  },
  {
   "cell_type": "code",
   "execution_count": 8,
   "id": "ee25cf09",
   "metadata": {
    "execution": {
     "iopub.execute_input": "2024-07-04T15:35:11.277744Z",
     "iopub.status.busy": "2024-07-04T15:35:11.277359Z",
     "iopub.status.idle": "2024-07-04T15:35:11.283339Z",
     "shell.execute_reply": "2024-07-04T15:35:11.282124Z"
    },
    "papermill": {
     "duration": 0.017508,
     "end_time": "2024-07-04T15:35:11.285776",
     "exception": false,
     "start_time": "2024-07-04T15:35:11.268268",
     "status": "completed"
    },
    "tags": []
   },
   "outputs": [
    {
     "name": "stdout",
     "output_type": "stream",
     "text": [
      "(714, 7)\n",
      "(714,)\n"
     ]
    }
   ],
   "source": [
    "\n",
    "print(x_train.shape)\n",
    "print(y_train.shape)\n",
    "#x_train.head()\n",
    "#y_train.head()"
   ]
  },
  {
   "cell_type": "code",
   "execution_count": 9,
   "id": "22ce5b92",
   "metadata": {
    "execution": {
     "iopub.execute_input": "2024-07-04T15:35:11.303389Z",
     "iopub.status.busy": "2024-07-04T15:35:11.302992Z",
     "iopub.status.idle": "2024-07-04T15:35:11.308355Z",
     "shell.execute_reply": "2024-07-04T15:35:11.307301Z"
    },
    "papermill": {
     "duration": 0.016886,
     "end_time": "2024-07-04T15:35:11.310777",
     "exception": false,
     "start_time": "2024-07-04T15:35:11.293891",
     "status": "completed"
    },
    "tags": []
   },
   "outputs": [],
   "source": [
    "def sig(z):\n",
    "    g=1/(1+np.exp(-z))\n",
    "    return g"
   ]
  },
  {
   "cell_type": "code",
   "execution_count": 10,
   "id": "ec5f29fa",
   "metadata": {
    "execution": {
     "iopub.execute_input": "2024-07-04T15:35:11.328014Z",
     "iopub.status.busy": "2024-07-04T15:35:11.327431Z",
     "iopub.status.idle": "2024-07-04T15:35:11.334302Z",
     "shell.execute_reply": "2024-07-04T15:35:11.333167Z"
    },
    "papermill": {
     "duration": 0.018269,
     "end_time": "2024-07-04T15:35:11.336770",
     "exception": false,
     "start_time": "2024-07-04T15:35:11.318501",
     "status": "completed"
    },
    "tags": []
   },
   "outputs": [],
   "source": [
    "def compute_cost(x,y,w,b):\n",
    "    m,n=x.shape\n",
    "    tc=0\n",
    "    for i in range(0,m):\n",
    "        z_i=np.dot(x[i],w)+b\n",
    "        fz=sig(z_i)\n",
    "        epsilon = 1e-8\n",
    "        tc+=-y[i]*np.log(fz+epsilon)-(1-y[i])*np.log(1-fz+epsilon)\n",
    "    tc/=m\n",
    "    return tc\n",
    "\n"
   ]
  },
  {
   "cell_type": "code",
   "execution_count": 11,
   "id": "afe7203b",
   "metadata": {
    "execution": {
     "iopub.execute_input": "2024-07-04T15:35:11.354820Z",
     "iopub.status.busy": "2024-07-04T15:35:11.353773Z",
     "iopub.status.idle": "2024-07-04T15:35:11.361040Z",
     "shell.execute_reply": "2024-07-04T15:35:11.359928Z"
    },
    "papermill": {
     "duration": 0.01915,
     "end_time": "2024-07-04T15:35:11.363558",
     "exception": false,
     "start_time": "2024-07-04T15:35:11.344408",
     "status": "completed"
    },
    "tags": []
   },
   "outputs": [],
   "source": [
    "def compute_gradient(x,y,w,b):\n",
    "    m,n=x.shape\n",
    "    dj_dw=np.zeros(w.shape)\n",
    "    dj_db=0\n",
    "    for i in range(m):\n",
    "        f=sig(np.dot(x[i],w)+b)\n",
    "        er=f-y[i]\n",
    "        for j in range(n):\n",
    "            dj_dw[j]=dj_dw[j]+er*x[i,j]\n",
    "        dj_db=dj_db+er\n",
    "    return (dj_db/m),(dj_dw/m)"
   ]
  },
  {
   "cell_type": "code",
   "execution_count": 12,
   "id": "c4411365",
   "metadata": {
    "execution": {
     "iopub.execute_input": "2024-07-04T15:35:11.382615Z",
     "iopub.status.busy": "2024-07-04T15:35:11.381698Z",
     "iopub.status.idle": "2024-07-04T15:35:11.396370Z",
     "shell.execute_reply": "2024-07-04T15:35:11.395101Z"
    },
    "papermill": {
     "duration": 0.027221,
     "end_time": "2024-07-04T15:35:11.398956",
     "exception": false,
     "start_time": "2024-07-04T15:35:11.371735",
     "status": "completed"
    },
    "tags": []
   },
   "outputs": [],
   "source": [
    "m,n=x1.shape\n",
    "w0=np.zeros(n)\n",
    "b0=0\n",
    "for i in range(m):\n",
    "    \n",
    "    f=sig(np.dot(x1[i],w0)+b0)\n",
    "dj_db,dj_dw=compute_gradient(x1,y1,w0,b0)"
   ]
  },
  {
   "cell_type": "code",
   "execution_count": 13,
   "id": "bc353d64",
   "metadata": {
    "execution": {
     "iopub.execute_input": "2024-07-04T15:35:11.416193Z",
     "iopub.status.busy": "2024-07-04T15:35:11.415801Z",
     "iopub.status.idle": "2024-07-04T15:35:11.424251Z",
     "shell.execute_reply": "2024-07-04T15:35:11.422881Z"
    },
    "papermill": {
     "duration": 0.020206,
     "end_time": "2024-07-04T15:35:11.426801",
     "exception": false,
     "start_time": "2024-07-04T15:35:11.406595",
     "status": "completed"
    },
    "tags": []
   },
   "outputs": [],
   "source": [
    "import math\n",
    "def gradient_descent(x,y,w,b,cf,gf,alpha,num_iters):\n",
    "    m=len(x)\n",
    "    j_h=[]\n",
    "    w_h=[]\n",
    "    for i in range(num_iters):\n",
    "        dj_db,dj_dw=gf(x,y,w,b)\n",
    "        w=w-alpha*dj_dw\n",
    "        b=b-alpha*dj_db\n",
    "        '''if(i<3000):\n",
    "            alpha=0.001\n",
    "        else:\n",
    "            alpha=0.0005'''\n",
    "        if i<100000:\n",
    "            cost=cf(x,y,w,b)\n",
    "            j_h.append(cost)\n",
    "        if (i% math.ceil(num_iters/10) == 0) or (i == (num_iters-1)):\n",
    "            w_h.append(w)\n",
    "            print(f\"Iteration {i:4}: Cost {float(j_h[-1]):8.2f}   \")\n",
    "    return w, b, j_h, w_h "
   ]
  },
  {
   "cell_type": "code",
   "execution_count": 14,
   "id": "6399b32b",
   "metadata": {
    "execution": {
     "iopub.execute_input": "2024-07-04T15:35:11.445358Z",
     "iopub.status.busy": "2024-07-04T15:35:11.444994Z",
     "iopub.status.idle": "2024-07-04T15:36:38.033015Z",
     "shell.execute_reply": "2024-07-04T15:36:38.031708Z"
    },
    "papermill": {
     "duration": 86.599942,
     "end_time": "2024-07-04T15:36:38.035572",
     "exception": false,
     "start_time": "2024-07-04T15:35:11.435630",
     "status": "completed"
    },
    "tags": []
   },
   "outputs": [
    {
     "name": "stdout",
     "output_type": "stream",
     "text": [
      "3.651115853244227\n",
      "Iteration    0: Cost     3.65   \n",
      "Iteration 1000: Cost     1.35   \n",
      "Iteration 2000: Cost     1.23   \n",
      "Iteration 3000: Cost     1.21   \n",
      "Iteration 4000: Cost     1.20   \n",
      "Iteration 5000: Cost     1.20   \n",
      "Iteration 6000: Cost     1.19   \n",
      "Iteration 7000: Cost     1.19   \n",
      "Iteration 8000: Cost     1.19   \n",
      "Iteration 9000: Cost     1.19   \n",
      "Iteration 9999: Cost     1.19   \n"
     ]
    }
   ],
   "source": [
    "w0=0.001 * (np.random.rand(7) - 0.5)\n",
    "b0=-9\n",
    "#print(x1,y1)\n",
    "iters=10000\n",
    "alpha=0.000005\n",
    "print(compute_cost(x1,y1,w0,b0))\n",
    "w,b,j_h,w_h=gradient_descent(x1,y1,w0,b0,compute_cost,compute_gradient,alpha,iters)"
   ]
  },
  {
   "cell_type": "code",
   "execution_count": 15,
   "id": "cb356a81",
   "metadata": {
    "execution": {
     "iopub.execute_input": "2024-07-04T15:36:38.053882Z",
     "iopub.status.busy": "2024-07-04T15:36:38.053486Z",
     "iopub.status.idle": "2024-07-04T15:38:04.321017Z",
     "shell.execute_reply": "2024-07-04T15:38:04.319898Z"
    },
    "papermill": {
     "duration": 86.279803,
     "end_time": "2024-07-04T15:38:04.323598",
     "exception": false,
     "start_time": "2024-07-04T15:36:38.043795",
     "status": "completed"
    },
    "tags": []
   },
   "outputs": [
    {
     "name": "stdout",
     "output_type": "stream",
     "text": [
      "Iteration    0: Cost     1.19   \n",
      "Iteration 1000: Cost     1.18   \n",
      "Iteration 2000: Cost     1.18   \n",
      "Iteration 3000: Cost     1.17   \n",
      "Iteration 4000: Cost     1.17   \n",
      "Iteration 5000: Cost     1.16   \n",
      "Iteration 6000: Cost     1.16   \n",
      "Iteration 7000: Cost     1.15   \n",
      "Iteration 8000: Cost     1.15   \n",
      "Iteration 9000: Cost     1.14   \n",
      "Iteration 9999: Cost     1.14   \n"
     ]
    }
   ],
   "source": [
    "alpha=0.00005\n",
    "w,b,j_h,w_h=gradient_descent(x1,y1,w,b,compute_cost,compute_gradient,alpha,iters)"
   ]
  },
  {
   "cell_type": "code",
   "execution_count": 16,
   "id": "e420c4a0",
   "metadata": {
    "execution": {
     "iopub.execute_input": "2024-07-04T15:38:04.343320Z",
     "iopub.status.busy": "2024-07-04T15:38:04.342956Z",
     "iopub.status.idle": "2024-07-04T15:38:04.349375Z",
     "shell.execute_reply": "2024-07-04T15:38:04.348244Z"
    },
    "papermill": {
     "duration": 0.019029,
     "end_time": "2024-07-04T15:38:04.351747",
     "exception": false,
     "start_time": "2024-07-04T15:38:04.332718",
     "status": "completed"
    },
    "tags": []
   },
   "outputs": [],
   "source": [
    "def predict(x,w,b):\n",
    "    m,n=x.shape\n",
    "    p=np.zeros(m)\n",
    "    for i in range (m):\n",
    "        z_wb=0\n",
    "        for j in range(n):\n",
    "            z_wb_ij=x[i,j]*w[j]\n",
    "            z_wb+=z_wb_ij\n",
    "        z_wb+=b\n",
    "        \n",
    "        f=sig(z_wb)\n",
    "        \n",
    "        p[i]=(f>=0.5)\n",
    "        \n",
    "    return p"
   ]
  },
  {
   "cell_type": "code",
   "execution_count": 17,
   "id": "19c24772",
   "metadata": {
    "execution": {
     "iopub.execute_input": "2024-07-04T15:38:04.371556Z",
     "iopub.status.busy": "2024-07-04T15:38:04.371163Z",
     "iopub.status.idle": "2024-07-04T15:38:04.380174Z",
     "shell.execute_reply": "2024-07-04T15:38:04.378725Z"
    },
    "papermill": {
     "duration": 0.021908,
     "end_time": "2024-07-04T15:38:04.382729",
     "exception": false,
     "start_time": "2024-07-04T15:38:04.360821",
     "status": "completed"
    },
    "tags": []
   },
   "outputs": [],
   "source": [
    "p=predict(x1,w,b)\n"
   ]
  },
  {
   "cell_type": "code",
   "execution_count": 18,
   "id": "a99cb6ec",
   "metadata": {
    "execution": {
     "iopub.execute_input": "2024-07-04T15:38:04.403597Z",
     "iopub.status.busy": "2024-07-04T15:38:04.403217Z",
     "iopub.status.idle": "2024-07-04T15:38:04.409479Z",
     "shell.execute_reply": "2024-07-04T15:38:04.408182Z"
    },
    "papermill": {
     "duration": 0.021348,
     "end_time": "2024-07-04T15:38:04.413366",
     "exception": false,
     "start_time": "2024-07-04T15:38:04.392018",
     "status": "completed"
    },
    "tags": []
   },
   "outputs": [
    {
     "name": "stdout",
     "output_type": "stream",
     "text": [
      "Train Accuracy: 64.845938\n"
     ]
    }
   ],
   "source": [
    "\n",
    "print('Train Accuracy: %f'%(np.mean(p == y1) * 100))"
   ]
  },
  {
   "cell_type": "code",
   "execution_count": 19,
   "id": "d66fdb77",
   "metadata": {
    "execution": {
     "iopub.execute_input": "2024-07-04T15:38:04.435852Z",
     "iopub.status.busy": "2024-07-04T15:38:04.435425Z",
     "iopub.status.idle": "2024-07-04T15:38:04.453360Z",
     "shell.execute_reply": "2024-07-04T15:38:04.452202Z"
    },
    "papermill": {
     "duration": 0.032377,
     "end_time": "2024-07-04T15:38:04.456056",
     "exception": false,
     "start_time": "2024-07-04T15:38:04.423679",
     "status": "completed"
    },
    "tags": []
   },
   "outputs": [
    {
     "data": {
      "text/plain": [
       "PassengerId    False\n",
       "Pclass         False\n",
       "Name           False\n",
       "Sex            False\n",
       "Age             True\n",
       "SibSp          False\n",
       "Parch          False\n",
       "Ticket         False\n",
       "Fare            True\n",
       "Cabin           True\n",
       "Embarked       False\n",
       "dtype: bool"
      ]
     },
     "execution_count": 19,
     "metadata": {},
     "output_type": "execute_result"
    }
   ],
   "source": [
    "x_test = pd.read_csv(\"/kaggle/input/titanic/test.csv\")\n",
    "x_test.isnull().any()"
   ]
  },
  {
   "cell_type": "code",
   "execution_count": 20,
   "id": "46603fba",
   "metadata": {
    "execution": {
     "iopub.execute_input": "2024-07-04T15:38:04.477590Z",
     "iopub.status.busy": "2024-07-04T15:38:04.477218Z",
     "iopub.status.idle": "2024-07-04T15:38:04.499976Z",
     "shell.execute_reply": "2024-07-04T15:38:04.498859Z"
    },
    "papermill": {
     "duration": 0.036857,
     "end_time": "2024-07-04T15:38:04.502276",
     "exception": false,
     "start_time": "2024-07-04T15:38:04.465419",
     "status": "completed"
    },
    "tags": []
   },
   "outputs": [
    {
     "data": {
      "text/html": [
       "<div>\n",
       "<style scoped>\n",
       "    .dataframe tbody tr th:only-of-type {\n",
       "        vertical-align: middle;\n",
       "    }\n",
       "\n",
       "    .dataframe tbody tr th {\n",
       "        vertical-align: top;\n",
       "    }\n",
       "\n",
       "    .dataframe thead th {\n",
       "        text-align: right;\n",
       "    }\n",
       "</style>\n",
       "<table border=\"1\" class=\"dataframe\">\n",
       "  <thead>\n",
       "    <tr style=\"text-align: right;\">\n",
       "      <th></th>\n",
       "      <th>PassengerId</th>\n",
       "      <th>Pclass</th>\n",
       "      <th>Name</th>\n",
       "      <th>Sex</th>\n",
       "      <th>Age</th>\n",
       "      <th>SibSp</th>\n",
       "      <th>Parch</th>\n",
       "      <th>Ticket</th>\n",
       "      <th>Fare</th>\n",
       "      <th>Cabin</th>\n",
       "      <th>Embarked</th>\n",
       "    </tr>\n",
       "  </thead>\n",
       "  <tbody>\n",
       "    <tr>\n",
       "      <th>0</th>\n",
       "      <td>892</td>\n",
       "      <td>3</td>\n",
       "      <td>341</td>\n",
       "      <td>0</td>\n",
       "      <td>34.5</td>\n",
       "      <td>0</td>\n",
       "      <td>0</td>\n",
       "      <td>256</td>\n",
       "      <td>7.8292</td>\n",
       "      <td>26</td>\n",
       "      <td>1</td>\n",
       "    </tr>\n",
       "    <tr>\n",
       "      <th>1</th>\n",
       "      <td>893</td>\n",
       "      <td>3</td>\n",
       "      <td>70</td>\n",
       "      <td>1</td>\n",
       "      <td>47.0</td>\n",
       "      <td>1</td>\n",
       "      <td>0</td>\n",
       "      <td>290</td>\n",
       "      <td>7.0000</td>\n",
       "      <td>26</td>\n",
       "      <td>2</td>\n",
       "    </tr>\n",
       "    <tr>\n",
       "      <th>2</th>\n",
       "      <td>894</td>\n",
       "      <td>2</td>\n",
       "      <td>261</td>\n",
       "      <td>0</td>\n",
       "      <td>62.0</td>\n",
       "      <td>0</td>\n",
       "      <td>0</td>\n",
       "      <td>212</td>\n",
       "      <td>9.6875</td>\n",
       "      <td>26</td>\n",
       "      <td>1</td>\n",
       "    </tr>\n",
       "    <tr>\n",
       "      <th>3</th>\n",
       "      <td>895</td>\n",
       "      <td>3</td>\n",
       "      <td>239</td>\n",
       "      <td>0</td>\n",
       "      <td>27.0</td>\n",
       "      <td>0</td>\n",
       "      <td>0</td>\n",
       "      <td>338</td>\n",
       "      <td>8.6625</td>\n",
       "      <td>26</td>\n",
       "      <td>2</td>\n",
       "    </tr>\n",
       "    <tr>\n",
       "      <th>4</th>\n",
       "      <td>896</td>\n",
       "      <td>3</td>\n",
       "      <td>167</td>\n",
       "      <td>1</td>\n",
       "      <td>22.0</td>\n",
       "      <td>1</td>\n",
       "      <td>1</td>\n",
       "      <td>170</td>\n",
       "      <td>12.2875</td>\n",
       "      <td>26</td>\n",
       "      <td>2</td>\n",
       "    </tr>\n",
       "    <tr>\n",
       "      <th>...</th>\n",
       "      <td>...</td>\n",
       "      <td>...</td>\n",
       "      <td>...</td>\n",
       "      <td>...</td>\n",
       "      <td>...</td>\n",
       "      <td>...</td>\n",
       "      <td>...</td>\n",
       "      <td>...</td>\n",
       "      <td>...</td>\n",
       "      <td>...</td>\n",
       "      <td>...</td>\n",
       "    </tr>\n",
       "    <tr>\n",
       "      <th>413</th>\n",
       "      <td>1305</td>\n",
       "      <td>3</td>\n",
       "      <td>180</td>\n",
       "      <td>0</td>\n",
       "      <td>NaN</td>\n",
       "      <td>0</td>\n",
       "      <td>0</td>\n",
       "      <td>181</td>\n",
       "      <td>8.0500</td>\n",
       "      <td>26</td>\n",
       "      <td>2</td>\n",
       "    </tr>\n",
       "    <tr>\n",
       "      <th>414</th>\n",
       "      <td>1306</td>\n",
       "      <td>1</td>\n",
       "      <td>56</td>\n",
       "      <td>1</td>\n",
       "      <td>39.0</td>\n",
       "      <td>0</td>\n",
       "      <td>0</td>\n",
       "      <td>149</td>\n",
       "      <td>108.9000</td>\n",
       "      <td>14</td>\n",
       "      <td>0</td>\n",
       "    </tr>\n",
       "    <tr>\n",
       "      <th>415</th>\n",
       "      <td>1307</td>\n",
       "      <td>3</td>\n",
       "      <td>161</td>\n",
       "      <td>0</td>\n",
       "      <td>38.5</td>\n",
       "      <td>0</td>\n",
       "      <td>0</td>\n",
       "      <td>240</td>\n",
       "      <td>7.2500</td>\n",
       "      <td>26</td>\n",
       "      <td>2</td>\n",
       "    </tr>\n",
       "    <tr>\n",
       "      <th>416</th>\n",
       "      <td>1308</td>\n",
       "      <td>3</td>\n",
       "      <td>29</td>\n",
       "      <td>0</td>\n",
       "      <td>NaN</td>\n",
       "      <td>0</td>\n",
       "      <td>0</td>\n",
       "      <td>345</td>\n",
       "      <td>8.0500</td>\n",
       "      <td>26</td>\n",
       "      <td>2</td>\n",
       "    </tr>\n",
       "    <tr>\n",
       "      <th>417</th>\n",
       "      <td>1309</td>\n",
       "      <td>3</td>\n",
       "      <td>278</td>\n",
       "      <td>0</td>\n",
       "      <td>NaN</td>\n",
       "      <td>1</td>\n",
       "      <td>1</td>\n",
       "      <td>69</td>\n",
       "      <td>22.3583</td>\n",
       "      <td>26</td>\n",
       "      <td>0</td>\n",
       "    </tr>\n",
       "  </tbody>\n",
       "</table>\n",
       "<p>418 rows × 11 columns</p>\n",
       "</div>"
      ],
      "text/plain": [
       "     PassengerId  Pclass  Name  Sex   Age  SibSp  Parch  Ticket      Fare  \\\n",
       "0            892       3   341    0  34.5      0      0     256    7.8292   \n",
       "1            893       3    70    1  47.0      1      0     290    7.0000   \n",
       "2            894       2   261    0  62.0      0      0     212    9.6875   \n",
       "3            895       3   239    0  27.0      0      0     338    8.6625   \n",
       "4            896       3   167    1  22.0      1      1     170   12.2875   \n",
       "..           ...     ...   ...  ...   ...    ...    ...     ...       ...   \n",
       "413         1305       3   180    0   NaN      0      0     181    8.0500   \n",
       "414         1306       1    56    1  39.0      0      0     149  108.9000   \n",
       "415         1307       3   161    0  38.5      0      0     240    7.2500   \n",
       "416         1308       3    29    0   NaN      0      0     345    8.0500   \n",
       "417         1309       3   278    0   NaN      1      1      69   22.3583   \n",
       "\n",
       "     Cabin  Embarked  \n",
       "0       26         1  \n",
       "1       26         2  \n",
       "2       26         1  \n",
       "3       26         2  \n",
       "4       26         2  \n",
       "..     ...       ...  \n",
       "413     26         2  \n",
       "414     14         0  \n",
       "415     26         2  \n",
       "416     26         2  \n",
       "417     26         0  \n",
       "\n",
       "[418 rows x 11 columns]"
      ]
     },
     "execution_count": 20,
     "metadata": {},
     "output_type": "execute_result"
    }
   ],
   "source": [
    "hnnd(x_test)"
   ]
  },
  {
   "cell_type": "code",
   "execution_count": 21,
   "id": "a6f4b87f",
   "metadata": {
    "execution": {
     "iopub.execute_input": "2024-07-04T15:38:04.524326Z",
     "iopub.status.busy": "2024-07-04T15:38:04.523923Z",
     "iopub.status.idle": "2024-07-04T15:38:04.538908Z",
     "shell.execute_reply": "2024-07-04T15:38:04.537777Z"
    },
    "papermill": {
     "duration": 0.02835,
     "end_time": "2024-07-04T15:38:04.541364",
     "exception": false,
     "start_time": "2024-07-04T15:38:04.513014",
     "status": "completed"
    },
    "tags": []
   },
   "outputs": [
    {
     "data": {
      "text/html": [
       "<div>\n",
       "<style scoped>\n",
       "    .dataframe tbody tr th:only-of-type {\n",
       "        vertical-align: middle;\n",
       "    }\n",
       "\n",
       "    .dataframe tbody tr th {\n",
       "        vertical-align: top;\n",
       "    }\n",
       "\n",
       "    .dataframe thead th {\n",
       "        text-align: right;\n",
       "    }\n",
       "</style>\n",
       "<table border=\"1\" class=\"dataframe\">\n",
       "  <thead>\n",
       "    <tr style=\"text-align: right;\">\n",
       "      <th></th>\n",
       "      <th>PassengerId</th>\n",
       "      <th>Pclass</th>\n",
       "      <th>Name</th>\n",
       "      <th>Sex</th>\n",
       "      <th>Age</th>\n",
       "      <th>SibSp</th>\n",
       "      <th>Parch</th>\n",
       "      <th>Ticket</th>\n",
       "      <th>Fare</th>\n",
       "      <th>Cabin</th>\n",
       "      <th>Embarked</th>\n",
       "    </tr>\n",
       "  </thead>\n",
       "  <tbody>\n",
       "    <tr>\n",
       "      <th>0</th>\n",
       "      <td>892</td>\n",
       "      <td>3</td>\n",
       "      <td>341</td>\n",
       "      <td>0</td>\n",
       "      <td>34.5</td>\n",
       "      <td>0</td>\n",
       "      <td>0</td>\n",
       "      <td>256</td>\n",
       "      <td>7.8292</td>\n",
       "      <td>26</td>\n",
       "      <td>1</td>\n",
       "    </tr>\n",
       "    <tr>\n",
       "      <th>1</th>\n",
       "      <td>893</td>\n",
       "      <td>3</td>\n",
       "      <td>70</td>\n",
       "      <td>1</td>\n",
       "      <td>47.0</td>\n",
       "      <td>1</td>\n",
       "      <td>0</td>\n",
       "      <td>290</td>\n",
       "      <td>7.0000</td>\n",
       "      <td>26</td>\n",
       "      <td>2</td>\n",
       "    </tr>\n",
       "    <tr>\n",
       "      <th>2</th>\n",
       "      <td>894</td>\n",
       "      <td>2</td>\n",
       "      <td>261</td>\n",
       "      <td>0</td>\n",
       "      <td>62.0</td>\n",
       "      <td>0</td>\n",
       "      <td>0</td>\n",
       "      <td>212</td>\n",
       "      <td>9.6875</td>\n",
       "      <td>26</td>\n",
       "      <td>1</td>\n",
       "    </tr>\n",
       "    <tr>\n",
       "      <th>3</th>\n",
       "      <td>895</td>\n",
       "      <td>3</td>\n",
       "      <td>239</td>\n",
       "      <td>0</td>\n",
       "      <td>27.0</td>\n",
       "      <td>0</td>\n",
       "      <td>0</td>\n",
       "      <td>338</td>\n",
       "      <td>8.6625</td>\n",
       "      <td>26</td>\n",
       "      <td>2</td>\n",
       "    </tr>\n",
       "    <tr>\n",
       "      <th>4</th>\n",
       "      <td>896</td>\n",
       "      <td>3</td>\n",
       "      <td>167</td>\n",
       "      <td>1</td>\n",
       "      <td>22.0</td>\n",
       "      <td>1</td>\n",
       "      <td>1</td>\n",
       "      <td>170</td>\n",
       "      <td>12.2875</td>\n",
       "      <td>26</td>\n",
       "      <td>2</td>\n",
       "    </tr>\n",
       "  </tbody>\n",
       "</table>\n",
       "</div>"
      ],
      "text/plain": [
       "   PassengerId  Pclass  Name  Sex   Age  SibSp  Parch  Ticket     Fare  Cabin  \\\n",
       "0          892       3   341    0  34.5      0      0     256   7.8292     26   \n",
       "1          893       3    70    1  47.0      1      0     290   7.0000     26   \n",
       "2          894       2   261    0  62.0      0      0     212   9.6875     26   \n",
       "3          895       3   239    0  27.0      0      0     338   8.6625     26   \n",
       "4          896       3   167    1  22.0      1      1     170  12.2875     26   \n",
       "\n",
       "   Embarked  \n",
       "0         1  \n",
       "1         2  \n",
       "2         1  \n",
       "3         2  \n",
       "4         2  "
      ]
     },
     "execution_count": 21,
     "metadata": {},
     "output_type": "execute_result"
    }
   ],
   "source": [
    "x_test.head()"
   ]
  },
  {
   "cell_type": "code",
   "execution_count": 22,
   "id": "801f07c9",
   "metadata": {
    "execution": {
     "iopub.execute_input": "2024-07-04T15:38:04.562775Z",
     "iopub.status.busy": "2024-07-04T15:38:04.562380Z",
     "iopub.status.idle": "2024-07-04T15:38:04.569250Z",
     "shell.execute_reply": "2024-07-04T15:38:04.567923Z"
    },
    "papermill": {
     "duration": 0.020459,
     "end_time": "2024-07-04T15:38:04.571766",
     "exception": false,
     "start_time": "2024-07-04T15:38:04.551307",
     "status": "completed"
    },
    "tags": []
   },
   "outputs": [],
   "source": [
    "\n",
    "x_test1=x_test[['Pclass','Sex', 'Age', 'SibSp', 'Parch','Fare','Cabin']]\n",
    "x2=x_test1.to_numpy()\n"
   ]
  },
  {
   "cell_type": "code",
   "execution_count": 23,
   "id": "e026f0b4",
   "metadata": {
    "execution": {
     "iopub.execute_input": "2024-07-04T15:38:04.593814Z",
     "iopub.status.busy": "2024-07-04T15:38:04.592721Z",
     "iopub.status.idle": "2024-07-04T15:38:04.600363Z",
     "shell.execute_reply": "2024-07-04T15:38:04.599087Z"
    },
    "papermill": {
     "duration": 0.021169,
     "end_time": "2024-07-04T15:38:04.602688",
     "exception": false,
     "start_time": "2024-07-04T15:38:04.581519",
     "status": "completed"
    },
    "tags": []
   },
   "outputs": [],
   "source": [
    "k=predict(x2,w,b)"
   ]
  },
  {
   "cell_type": "code",
   "execution_count": 24,
   "id": "a7c4a1cc",
   "metadata": {
    "execution": {
     "iopub.execute_input": "2024-07-04T15:38:04.624530Z",
     "iopub.status.busy": "2024-07-04T15:38:04.623672Z",
     "iopub.status.idle": "2024-07-04T15:38:04.638010Z",
     "shell.execute_reply": "2024-07-04T15:38:04.636977Z"
    },
    "papermill": {
     "duration": 0.027536,
     "end_time": "2024-07-04T15:38:04.640323",
     "exception": false,
     "start_time": "2024-07-04T15:38:04.612787",
     "status": "completed"
    },
    "tags": []
   },
   "outputs": [
    {
     "data": {
      "text/html": [
       "<div>\n",
       "<style scoped>\n",
       "    .dataframe tbody tr th:only-of-type {\n",
       "        vertical-align: middle;\n",
       "    }\n",
       "\n",
       "    .dataframe tbody tr th {\n",
       "        vertical-align: top;\n",
       "    }\n",
       "\n",
       "    .dataframe thead th {\n",
       "        text-align: right;\n",
       "    }\n",
       "</style>\n",
       "<table border=\"1\" class=\"dataframe\">\n",
       "  <thead>\n",
       "    <tr style=\"text-align: right;\">\n",
       "      <th></th>\n",
       "      <th>PassengerId</th>\n",
       "      <th>Pclass</th>\n",
       "      <th>Name</th>\n",
       "      <th>Sex</th>\n",
       "      <th>Age</th>\n",
       "      <th>SibSp</th>\n",
       "      <th>Parch</th>\n",
       "      <th>Ticket</th>\n",
       "      <th>Fare</th>\n",
       "      <th>Cabin</th>\n",
       "      <th>Embarked</th>\n",
       "    </tr>\n",
       "  </thead>\n",
       "  <tbody>\n",
       "    <tr>\n",
       "      <th>0</th>\n",
       "      <td>892</td>\n",
       "      <td>3</td>\n",
       "      <td>341</td>\n",
       "      <td>0</td>\n",
       "      <td>34.5</td>\n",
       "      <td>0</td>\n",
       "      <td>0</td>\n",
       "      <td>256</td>\n",
       "      <td>7.8292</td>\n",
       "      <td>26</td>\n",
       "      <td>1</td>\n",
       "    </tr>\n",
       "    <tr>\n",
       "      <th>1</th>\n",
       "      <td>893</td>\n",
       "      <td>3</td>\n",
       "      <td>70</td>\n",
       "      <td>1</td>\n",
       "      <td>47.0</td>\n",
       "      <td>1</td>\n",
       "      <td>0</td>\n",
       "      <td>290</td>\n",
       "      <td>7.0000</td>\n",
       "      <td>26</td>\n",
       "      <td>2</td>\n",
       "    </tr>\n",
       "    <tr>\n",
       "      <th>2</th>\n",
       "      <td>894</td>\n",
       "      <td>2</td>\n",
       "      <td>261</td>\n",
       "      <td>0</td>\n",
       "      <td>62.0</td>\n",
       "      <td>0</td>\n",
       "      <td>0</td>\n",
       "      <td>212</td>\n",
       "      <td>9.6875</td>\n",
       "      <td>26</td>\n",
       "      <td>1</td>\n",
       "    </tr>\n",
       "    <tr>\n",
       "      <th>3</th>\n",
       "      <td>895</td>\n",
       "      <td>3</td>\n",
       "      <td>239</td>\n",
       "      <td>0</td>\n",
       "      <td>27.0</td>\n",
       "      <td>0</td>\n",
       "      <td>0</td>\n",
       "      <td>338</td>\n",
       "      <td>8.6625</td>\n",
       "      <td>26</td>\n",
       "      <td>2</td>\n",
       "    </tr>\n",
       "    <tr>\n",
       "      <th>4</th>\n",
       "      <td>896</td>\n",
       "      <td>3</td>\n",
       "      <td>167</td>\n",
       "      <td>1</td>\n",
       "      <td>22.0</td>\n",
       "      <td>1</td>\n",
       "      <td>1</td>\n",
       "      <td>170</td>\n",
       "      <td>12.2875</td>\n",
       "      <td>26</td>\n",
       "      <td>2</td>\n",
       "    </tr>\n",
       "  </tbody>\n",
       "</table>\n",
       "</div>"
      ],
      "text/plain": [
       "   PassengerId  Pclass  Name  Sex   Age  SibSp  Parch  Ticket     Fare  Cabin  \\\n",
       "0          892       3   341    0  34.5      0      0     256   7.8292     26   \n",
       "1          893       3    70    1  47.0      1      0     290   7.0000     26   \n",
       "2          894       2   261    0  62.0      0      0     212   9.6875     26   \n",
       "3          895       3   239    0  27.0      0      0     338   8.6625     26   \n",
       "4          896       3   167    1  22.0      1      1     170  12.2875     26   \n",
       "\n",
       "   Embarked  \n",
       "0         1  \n",
       "1         2  \n",
       "2         1  \n",
       "3         2  \n",
       "4         2  "
      ]
     },
     "execution_count": 24,
     "metadata": {},
     "output_type": "execute_result"
    }
   ],
   "source": [
    "x_test.head()"
   ]
  },
  {
   "cell_type": "code",
   "execution_count": 25,
   "id": "4745f870",
   "metadata": {
    "execution": {
     "iopub.execute_input": "2024-07-04T15:38:04.661823Z",
     "iopub.status.busy": "2024-07-04T15:38:04.661473Z",
     "iopub.status.idle": "2024-07-04T15:38:04.671203Z",
     "shell.execute_reply": "2024-07-04T15:38:04.670244Z"
    },
    "papermill": {
     "duration": 0.023447,
     "end_time": "2024-07-04T15:38:04.673677",
     "exception": false,
     "start_time": "2024-07-04T15:38:04.650230",
     "status": "completed"
    },
    "tags": []
   },
   "outputs": [],
   "source": [
    "output = pd.DataFrame({'PassengerId': x_test.PassengerId, 'Survived': k})\n",
    "output.to_csv('submission.csv', index=False)"
   ]
  },
  {
   "cell_type": "code",
   "execution_count": 26,
   "id": "0f6d2d5d",
   "metadata": {
    "execution": {
     "iopub.execute_input": "2024-07-04T15:38:04.695144Z",
     "iopub.status.busy": "2024-07-04T15:38:04.694746Z",
     "iopub.status.idle": "2024-07-04T15:38:04.708381Z",
     "shell.execute_reply": "2024-07-04T15:38:04.706855Z"
    },
    "papermill": {
     "duration": 0.027679,
     "end_time": "2024-07-04T15:38:04.711316",
     "exception": false,
     "start_time": "2024-07-04T15:38:04.683637",
     "status": "completed"
    },
    "tags": []
   },
   "outputs": [
    {
     "data": {
      "text/html": [
       "<div>\n",
       "<style scoped>\n",
       "    .dataframe tbody tr th:only-of-type {\n",
       "        vertical-align: middle;\n",
       "    }\n",
       "\n",
       "    .dataframe tbody tr th {\n",
       "        vertical-align: top;\n",
       "    }\n",
       "\n",
       "    .dataframe thead th {\n",
       "        text-align: right;\n",
       "    }\n",
       "</style>\n",
       "<table border=\"1\" class=\"dataframe\">\n",
       "  <thead>\n",
       "    <tr style=\"text-align: right;\">\n",
       "      <th></th>\n",
       "      <th>PassengerId</th>\n",
       "      <th>Survived</th>\n",
       "    </tr>\n",
       "  </thead>\n",
       "  <tbody>\n",
       "    <tr>\n",
       "      <th>0</th>\n",
       "      <td>892</td>\n",
       "      <td>0.0</td>\n",
       "    </tr>\n",
       "    <tr>\n",
       "      <th>1</th>\n",
       "      <td>893</td>\n",
       "      <td>0.0</td>\n",
       "    </tr>\n",
       "    <tr>\n",
       "      <th>2</th>\n",
       "      <td>894</td>\n",
       "      <td>0.0</td>\n",
       "    </tr>\n",
       "    <tr>\n",
       "      <th>3</th>\n",
       "      <td>895</td>\n",
       "      <td>0.0</td>\n",
       "    </tr>\n",
       "    <tr>\n",
       "      <th>4</th>\n",
       "      <td>896</td>\n",
       "      <td>0.0</td>\n",
       "    </tr>\n",
       "    <tr>\n",
       "      <th>...</th>\n",
       "      <td>...</td>\n",
       "      <td>...</td>\n",
       "    </tr>\n",
       "    <tr>\n",
       "      <th>413</th>\n",
       "      <td>1305</td>\n",
       "      <td>0.0</td>\n",
       "    </tr>\n",
       "    <tr>\n",
       "      <th>414</th>\n",
       "      <td>1306</td>\n",
       "      <td>0.0</td>\n",
       "    </tr>\n",
       "    <tr>\n",
       "      <th>415</th>\n",
       "      <td>1307</td>\n",
       "      <td>0.0</td>\n",
       "    </tr>\n",
       "    <tr>\n",
       "      <th>416</th>\n",
       "      <td>1308</td>\n",
       "      <td>0.0</td>\n",
       "    </tr>\n",
       "    <tr>\n",
       "      <th>417</th>\n",
       "      <td>1309</td>\n",
       "      <td>0.0</td>\n",
       "    </tr>\n",
       "  </tbody>\n",
       "</table>\n",
       "<p>418 rows × 2 columns</p>\n",
       "</div>"
      ],
      "text/plain": [
       "     PassengerId  Survived\n",
       "0            892       0.0\n",
       "1            893       0.0\n",
       "2            894       0.0\n",
       "3            895       0.0\n",
       "4            896       0.0\n",
       "..           ...       ...\n",
       "413         1305       0.0\n",
       "414         1306       0.0\n",
       "415         1307       0.0\n",
       "416         1308       0.0\n",
       "417         1309       0.0\n",
       "\n",
       "[418 rows x 2 columns]"
      ]
     },
     "execution_count": 26,
     "metadata": {},
     "output_type": "execute_result"
    }
   ],
   "source": [
    "output"
   ]
  },
  {
   "cell_type": "code",
   "execution_count": null,
   "id": "1ba85e53",
   "metadata": {
    "execution": {
     "iopub.execute_input": "2024-07-04T15:34:43.451054Z",
     "iopub.status.busy": "2024-07-04T15:34:43.450572Z",
     "iopub.status.idle": "2024-07-04T15:34:43.485834Z",
     "shell.execute_reply": "2024-07-04T15:34:43.483982Z",
     "shell.execute_reply.started": "2024-07-04T15:34:43.451014Z"
    },
    "papermill": {
     "duration": 0.009944,
     "end_time": "2024-07-04T15:38:04.732588",
     "exception": false,
     "start_time": "2024-07-04T15:38:04.722644",
     "status": "completed"
    },
    "tags": []
   },
   "outputs": [],
   "source": []
  },
  {
   "cell_type": "code",
   "execution_count": null,
   "id": "e6b82882",
   "metadata": {
    "papermill": {
     "duration": 0.012539,
     "end_time": "2024-07-04T15:38:04.755397",
     "exception": false,
     "start_time": "2024-07-04T15:38:04.742858",
     "status": "completed"
    },
    "tags": []
   },
   "outputs": [],
   "source": []
  }
 ],
 "metadata": {
  "kaggle": {
   "accelerator": "none",
   "dataSources": [
    {
     "databundleVersionId": 26502,
     "sourceId": 3136,
     "sourceType": "competition"
    }
   ],
   "dockerImageVersionId": 30698,
   "isGpuEnabled": false,
   "isInternetEnabled": false,
   "language": "python",
   "sourceType": "notebook"
  },
  "kernelspec": {
   "display_name": "Python 3",
   "language": "python",
   "name": "python3"
  },
  "language_info": {
   "codemirror_mode": {
    "name": "ipython",
    "version": 3
   },
   "file_extension": ".py",
   "mimetype": "text/x-python",
   "name": "python",
   "nbconvert_exporter": "python",
   "pygments_lexer": "ipython3",
   "version": "3.10.13"
  },
  "papermill": {
   "default_parameters": {},
   "duration": 178.366702,
   "end_time": "2024-07-04T15:38:05.289290",
   "environment_variables": {},
   "exception": null,
   "input_path": "__notebook__.ipynb",
   "output_path": "__notebook__.ipynb",
   "parameters": {},
   "start_time": "2024-07-04T15:35:06.922588",
   "version": "2.5.0"
  }
 },
 "nbformat": 4,
 "nbformat_minor": 5
}
